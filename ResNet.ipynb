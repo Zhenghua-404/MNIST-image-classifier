{
  "nbformat": 4,
  "nbformat_minor": 0,
  "metadata": {
    "colab": {
      "name": "ResNet.ipynb",
      "provenance": [],
      "collapsed_sections": []
    },
    "kernelspec": {
      "name": "python3",
      "display_name": "Python 3"
    },
    "accelerator": "GPU"
  },
  "cells": [
    {
      "cell_type": "code",
      "metadata": {
        "id": "pTCluRIuVoU2",
        "colab_type": "code",
        "colab": {}
      },
      "source": [
        "import platform\n",
        "import io\n",
        "\n",
        "import matplotlib.pyplot as plt\n",
        "from matplotlib.pyplot import cm\n",
        "\n",
        "import torch\n",
        "import torch.nn as nn\n",
        "import torch.optim as optim\n",
        "\n",
        "import torchvision\n",
        "import torchvision.transforms as transforms\n",
        "\n",
        "import pandas as pd\n",
        "import numpy as np\n",
        "import matplotlib.pyplot as plt\n",
        "\n",
        "import torch.nn.functional as F\n",
        "from torch.utils.data import DataLoader, Dataset\n",
        "\n",
        "import matplotlib.pyplot as plt\n",
        "\n",
        "import scipy as sp"
      ],
      "execution_count": 0,
      "outputs": []
    },
    {
      "cell_type": "code",
      "metadata": {
        "id": "4nL-topYdjw1",
        "colab_type": "code",
        "colab": {}
      },
      "source": [
        "# Code to read csv file into Colaboratory:\n",
        "!pip install -U -q PyDrive\n",
        "from pydrive.auth import GoogleAuth\n",
        "from pydrive.drive import GoogleDrive\n",
        "from google.colab import auth\n",
        "from oauth2client.client import GoogleCredentials\n",
        "# Authenticate and create the PyDrive client.\n",
        "auth.authenticate_user()\n",
        "gauth = GoogleAuth()\n",
        "gauth.credentials = GoogleCredentials.get_application_default()\n",
        "drive = GoogleDrive(gauth)"
      ],
      "execution_count": 0,
      "outputs": []
    },
    {
      "cell_type": "code",
      "metadata": {
        "id": "83M0cXqvdnGW",
        "colab_type": "code",
        "colab": {}
      },
      "source": [
        "train_link=\"https://drive.google.com/open?id=1MHimMDZ7wlYvLsOilWmIqQnxRo4xLn8O\"\n",
        "test_link=\"https://drive.google.com/open?id=14aEt_3irPQ5MI8ZTFSzj17vwvar00QU0\"\n",
        "label_link=\"https://drive.google.com/open?id=18xt_fv9r_OpvtGg7f0axAZAgqD8q_sku\""
      ],
      "execution_count": 0,
      "outputs": []
    },
    {
      "cell_type": "code",
      "metadata": {
        "id": "C7ISeDp1dpKi",
        "colab_type": "code",
        "colab": {}
      },
      "source": [
        "def getFile(link,pkl):\n",
        "    fluff, id = link.split('=')\n",
        "    downloaded = drive.CreateFile({'id':id})\n",
        "    if pkl is True:\n",
        "        downloaded.GetContentFile('file.pkl')\n",
        "        file=pd.read_pickle('file.pkl')\n",
        "        return file\n",
        "    else:\n",
        "        downloaded.GetContentFile('label.csv')\n",
        "        file=pd.read_csv('label.csv')\n",
        "        return file"
      ],
      "execution_count": 0,
      "outputs": []
    },
    {
      "cell_type": "code",
      "metadata": {
        "id": "KWHSZe-mdq9u",
        "colab_type": "code",
        "colab": {}
      },
      "source": [
        "train_images=getFile(train_link,True)\n",
        "train_label=getFile(label_link,False)\n",
        "test_images=getFile(test_link,True)"
      ],
      "execution_count": 0,
      "outputs": []
    },
    {
      "cell_type": "code",
      "metadata": {
        "id": "agi86h0hduHw",
        "colab_type": "code",
        "colab": {}
      },
      "source": [
        "class DatasetMNIST(Dataset):\n",
        "    \n",
        "    def __init__(self, x, y, transform=None):\n",
        "        self.transform = transform\n",
        "        self.data=x\n",
        "        self.labels=y\n",
        "        self.train=True\n",
        "        if y is None:\n",
        "            self.labels=pd.DataFrame(np.zeros([len(x),2]))\n",
        "            self.train=False\n",
        "        \n",
        "    def __len__(self):\n",
        "        return len(self.data)\n",
        "    \n",
        "    def __getitem__(self, index):\n",
        "        # load image as ndarray type (Height * Width * Channels)\n",
        "        # be carefull for converting dtype to np.uint8 [Unsigned integer (0 to 255)]\n",
        "        # in this example, i don't use ToTensor() method of torchvision.transforms\n",
        "        # so you can convert numpy ndarray shape to tensor in PyTorch (H, W, C) --> (C, H, W)\n",
        "        image = self.data[index]\n",
        "        label=-1\n",
        "        if self.train is True:\n",
        "            #label = self.labels.iloc[index.item(),1]\n",
        "            label = self.labels.iloc[index,1]\n",
        "        \n",
        "        if self.transform is not None:\n",
        "            image = torch.from_numpy(image)\n",
        "            \n",
        "        return image, label"
      ],
      "execution_count": 0,
      "outputs": []
    },
    {
      "cell_type": "code",
      "metadata": {
        "id": "r9sebI9ldwXL",
        "colab_type": "code",
        "colab": {}
      },
      "source": [
        "transform=transforms.ToTensor()\n",
        "train_image=DatasetMNIST(train_images,train_label,transform)\n",
        "train_size = int(0.8 * len(train_image))\n",
        "train,valid=torch.utils.data.dataset.random_split(train_image,[train_size,len(train_image)-train_size])\n",
        "test_image=DatasetMNIST(test_images,None,transform)"
      ],
      "execution_count": 0,
      "outputs": []
    },
    {
      "cell_type": "code",
      "metadata": {
        "id": "_4SVMSondx_1",
        "colab_type": "code",
        "colab": {}
      },
      "source": [
        "BATCH_SIZE=100\n",
        "\n",
        "train_loader=torch.utils.data.DataLoader(train,batch_size=BATCH_SIZE,shuffle=True)\n",
        "valid_loader=torch.utils.data.DataLoader(valid,batch_size=BATCH_SIZE,shuffle=False)\n",
        "test_loader=torch.utils.data.DataLoader(test_image,batch_size=BATCH_SIZE,shuffle=False)"
      ],
      "execution_count": 0,
      "outputs": []
    },
    {
      "cell_type": "code",
      "metadata": {
        "id": "3SFpMTZgVzHp",
        "colab_type": "code",
        "colab": {}
      },
      "source": [
        "def conv3x3(in_channels, out_channels, stride=1):\n",
        "    return nn.Conv2d(in_channels, out_channels, kernel_size=3,\n",
        "                    stride=stride, padding=1, bias=False)\n",
        "\n",
        "\n",
        "# Residual block\n",
        "class ResidualBlock(nn.Module):\n",
        "    def __init__(self, in_channels, out_channels, stride=1, downsample=None):\n",
        "        super(ResidualBlock, self).__init__()\n",
        "        self.conv1 = conv3x3(in_channels, out_channels, stride)\n",
        "        self.bn1 = nn.BatchNorm2d(out_channels)\n",
        "        self.relu = nn.ReLU(inplace=True)\n",
        "        self.conv2 = conv3x3(out_channels, out_channels)\n",
        "        self.bn2 = nn.BatchNorm2d(out_channels)\n",
        "        self.downsample = downsample\n",
        "\n",
        "    def forward(self, x):\n",
        "        residual = x\n",
        "        out = self.conv1(x)\n",
        "        out = self.bn1(out)\n",
        "        out = self.relu(out)\n",
        "        out = self.conv2(out)\n",
        "        out = self.bn2(out)\n",
        "        if self.downsample:\n",
        "            residual = self.downsample(x)\n",
        "        out += residual\n",
        "        out = self.relu(out)\n",
        "        return out\n",
        "\n",
        "\n",
        "# ResNet\n",
        "class ResNet(nn.Module):\n",
        "    def __init__(self, block, layers, num_classes=10):\n",
        "        super(ResNet, self).__init__()\n",
        "        self.in_channels = 16\n",
        "        self.conv = conv3x3(1, 16)\n",
        "        self.bn = nn.BatchNorm2d(16)\n",
        "        self.relu = nn.ReLU(inplace=True)\n",
        "        self.layer1 = self.make_layer(block, 16, layers[0])\n",
        "        self.layer2 = self.make_layer(block, 32, layers[0], 2)\n",
        "        self.layer3 = self.make_layer(block, 64, layers[1], 2)\n",
        "        self.avg_pool = nn.AvgPool2d(8)\n",
        "        self.fc = nn.Linear(1024, num_classes)\n",
        "\n",
        "    def make_layer(self, block, out_channels, blocks, stride=1):\n",
        "        downsample = None\n",
        "        if (stride != 1) or (self.in_channels != out_channels):\n",
        "            downsample = nn.Sequential(\n",
        "                conv3x3(self.in_channels, out_channels, stride=stride),\n",
        "                nn.BatchNorm2d(out_channels))\n",
        "        layers = []\n",
        "        layers.append(block(self.in_channels, out_channels, stride, downsample))\n",
        "        self.in_channels = out_channels\n",
        "        for i in range(1, blocks):\n",
        "            layers.append(block(out_channels, out_channels))\n",
        "        return nn.Sequential(*layers)\n",
        "\n",
        "    def forward(self, x):\n",
        "        out = self.conv(x)\n",
        "#         print(out.size())\n",
        "        out = self.bn(out)\n",
        "#         print(out.size())\n",
        "        out = self.layer1(out)\n",
        "#         print(out.size())\n",
        "        out = self.layer2(out)\n",
        "#         print(out.size())\n",
        "        out = self.layer3(out)\n",
        "#         print(out.size())\n",
        "        out = self.avg_pool(out)\n",
        "#         print(out.size())\n",
        "        out = out.view(out.size(0), -1)\n",
        "#         print(out.size())\n",
        "        out = self.fc(out)\n",
        "#         print(\"\")\n",
        "        return out"
      ],
      "execution_count": 0,
      "outputs": []
    },
    {
      "cell_type": "code",
      "metadata": {
        "id": "nZAKU8gvd1bB",
        "colab_type": "code",
        "outputId": "0142418d-ca2e-4782-cd6c-cd60ce7d25c9",
        "colab": {
          "base_uri": "https://localhost:8080/",
          "height": 33
        }
      },
      "source": [
        "net_args = {\n",
        "    \"block\": ResidualBlock,\n",
        "    \"layers\": [2, 2, 2, 2]\n",
        "}\n",
        "resnet = ResNet(**net_args)\n",
        "use_gpu=torch.cuda.is_available()\n",
        "print(\"GPU Available:{}\".format(use_gpu))\n",
        "if use_gpu:\n",
        "    resnet.cuda()"
      ],
      "execution_count": 0,
      "outputs": [
        {
          "output_type": "stream",
          "text": [
            "GPU Available:True\n"
          ],
          "name": "stdout"
        }
      ]
    },
    {
      "cell_type": "code",
      "metadata": {
        "id": "oYUkQxyFd3vx",
        "colab_type": "code",
        "colab": {}
      },
      "source": [
        "criterion=nn.CrossEntropyLoss()"
      ],
      "execution_count": 0,
      "outputs": []
    },
    {
      "cell_type": "code",
      "metadata": {
        "id": "SIIDdWq9d5Vo",
        "colab_type": "code",
        "colab": {}
      },
      "source": [
        "def trainResNet(epoch, model,train_loader,optimizer):\n",
        "    model.train()\n",
        "\n",
        "    total_loss=0;\n",
        "    correct=0;\n",
        "\n",
        "    for i, (image,label) in enumerate(train_loader):\n",
        "\n",
        "        optimizer.zero_grad()\n",
        "\n",
        "    #images=image.view(-1,28*28)\n",
        "\n",
        "        image=image.unsqueeze_(0)\n",
        "        image=image.permute(1, 0, 2,3)\n",
        "\n",
        "        if use_gpu:\n",
        "            image=image.cuda()\n",
        "            label=label.cuda()\n",
        "\n",
        "        prediction=model(image)\n",
        "\n",
        "        loss=criterion(prediction,label)\n",
        "\n",
        "        loss.backward()\n",
        "\n",
        "        optimizer.step()\n",
        "\n",
        "        total_loss+=loss\n",
        "        pred_classes = prediction.data.max(1,keepdim=True)[1]\n",
        "        correct += pred_classes.eq(label.data.view_as(pred_classes)).sum().double()\n",
        "\n",
        "    mean_loss=total_loss/len(train_loader.dataset)\n",
        "    acc=correct/len(train_loader.dataset)\n",
        "\n",
        "    print('Train Epoch: {}   Avg_Loss: {:.5f}   Acc: {}/{} ({:.3f}%)'.format(\n",
        "        epoch, mean_loss, correct, len(train_loader.dataset),\n",
        "        100. * acc))\n",
        "\n",
        "    return mean_loss, acc"
      ],
      "execution_count": 0,
      "outputs": []
    },
    {
      "cell_type": "code",
      "metadata": {
        "id": "zPD6SZ6Qd7f9",
        "colab_type": "code",
        "colab": {}
      },
      "source": [
        "def evalResNet(model,eval_loader):\n",
        "  \n",
        "    model.eval()\n",
        "\n",
        "    total_loss=0\n",
        "    correct=0\n",
        "\n",
        "    for i, (image,label) in enumerate(eval_loader):\n",
        "\n",
        "        optimizer.zero_grad()\n",
        "\n",
        "    #images=image.view(-1,28*28)\n",
        "\n",
        "        image=image.unsqueeze_(0)\n",
        "        image=image.permute(1, 0, 2,3)\n",
        "\n",
        "        if use_gpu:\n",
        "            image=image.cuda()\n",
        "            label=label.cuda()\n",
        "\n",
        "        prediction=model(image)\n",
        "\n",
        "        loss=criterion(prediction,label)\n",
        "\n",
        "        loss.backward()\n",
        "\n",
        "        optimizer.step()\n",
        "\n",
        "        total_loss+=loss\n",
        "\n",
        "        pred_classes=prediction.data.max(1,keepdim=True)[1]\n",
        "\n",
        "        correct+=pred_classes.eq(label.data.view_as(pred_classes)).sum().double()\n",
        "\n",
        "    mean_loss=total_loss/len(eval_loader.dataset)\n",
        "    acc=correct/len(eval_loader.dataset)\n",
        "\n",
        "    print('Eval:  Avg_Loss: {:.5f}   Acc: {}/{} ({:.3f}%)'.format(\n",
        "        mean_loss, correct, len(eval_loader.dataset),\n",
        "        100. *acc)) \n",
        "\n",
        "    return mean_loss, acc"
      ],
      "execution_count": 0,
      "outputs": []
    },
    {
      "cell_type": "code",
      "metadata": {
        "id": "EVp45kODd9mb",
        "colab_type": "code",
        "colab": {}
      },
      "source": [
        "def save_model(epoch, model, path='./'):\n",
        "    \n",
        "    # file name and path \n",
        "    filename = path + 'cnn_{}.pt'.format(epoch)\n",
        "    \n",
        "    # load the model parameters \n",
        "    torch.save(model.state_dict(), filename)\n",
        "    \n",
        "    \n",
        "    return model"
      ],
      "execution_count": 0,
      "outputs": []
    },
    {
      "cell_type": "code",
      "metadata": {
        "id": "13x7LalFeCIK",
        "colab_type": "code",
        "outputId": "2dedea4b-ff8d-4671-9e81-7020270f9e1d",
        "colab": {
          "base_uri": "https://localhost:8080/",
          "height": 1000
        }
      },
      "source": [
        "optimizer=optim.Adam(resnet.parameters(),lr=0.0001)\n",
        "# Number of epochs \n",
        "numEpochs = 100\n",
        "\n",
        "# checkpoint frequency \n",
        "checkpoint_freq = 10\n",
        "\n",
        "# path to save the data \n",
        "path = './'\n",
        "\n",
        "# empty lists \n",
        "train_losses = []\n",
        "test_losses = []\n",
        "\n",
        "train_accuracies = []\n",
        "test_accuracies = []\n",
        "\n",
        "# traininng \n",
        "for epoch in range(1, numEpochs + 1):\n",
        "    \n",
        "    # train() function (see above)\n",
        "    train_loss, train_acc = trainResNet(epoch, resnet, train_loader, optimizer)\n",
        "    \n",
        "    # eval() functionn (see above)\n",
        "    test_loss, test_acc = evalResNet(resnet, valid_loader)    \n",
        "    \n",
        "    # append lists for plotting and printing \n",
        "    train_losses.append(train_loss)    \n",
        "    test_losses.append(test_loss)\n",
        "    \n",
        "    train_accuracies.append(train_acc)    \n",
        "    test_accuracies.append(test_acc)\n",
        "    \n",
        "    # Checkpoint\n",
        "    if epoch % checkpoint_freq ==0:\n",
        "        save_model(epoch, resnet, path)\n",
        "\n",
        "# Last checkpoint\n",
        "save_model(numEpochs, resnet, path)\n",
        "    \n",
        "print(\"\\n\\n\\nOptimization ended.\\n\") "
      ],
      "execution_count": 0,
      "outputs": [
        {
          "output_type": "stream",
          "text": [
            "Train Epoch: 1   Avg_Loss: 0.01905   Acc: 10378.0/40000 (25.945%)\n",
            "Eval:  Avg_Loss: 0.01897   Acc: 2610.0/10000 (26.100%)\n",
            "Train Epoch: 2   Avg_Loss: 0.01844   Acc: 11683.0/40000 (29.208%)\n",
            "Eval:  Avg_Loss: 0.01905   Acc: 2629.0/10000 (26.290%)\n",
            "Train Epoch: 3   Avg_Loss: 0.01708   Acc: 14646.0/40000 (36.615%)\n",
            "Eval:  Avg_Loss: 0.01990   Acc: 2595.0/10000 (25.950%)\n",
            "Train Epoch: 4   Avg_Loss: 0.01871   Acc: 11054.0/40000 (27.635%)\n",
            "Eval:  Avg_Loss: 0.01749   Acc: 3429.0/10000 (34.290%)\n",
            "Train Epoch: 5   Avg_Loss: 0.01529   Acc: 18127.0/40000 (45.318%)\n",
            "Eval:  Avg_Loss: 0.01407   Acc: 5079.0/10000 (50.790%)\n",
            "Train Epoch: 6   Avg_Loss: 0.01219   Acc: 23894.0/40000 (59.735%)\n",
            "Eval:  Avg_Loss: 0.01251   Acc: 5701.0/10000 (57.010%)\n",
            "Train Epoch: 7   Avg_Loss: 0.01013   Acc: 26917.0/40000 (67.293%)\n",
            "Eval:  Avg_Loss: 0.01065   Acc: 6401.0/10000 (64.010%)\n",
            "Train Epoch: 8   Avg_Loss: 0.00865   Acc: 28995.0/40000 (72.488%)\n",
            "Eval:  Avg_Loss: 0.00872   Acc: 7106.0/10000 (71.060%)\n",
            "Train Epoch: 9   Avg_Loss: 0.00751   Acc: 30479.0/40000 (76.198%)\n",
            "Eval:  Avg_Loss: 0.00761   Acc: 7545.0/10000 (75.450%)\n",
            "Train Epoch: 10   Avg_Loss: 0.00662   Acc: 31695.0/40000 (79.238%)\n",
            "Eval:  Avg_Loss: 0.00718   Acc: 7680.0/10000 (76.800%)\n",
            "Train Epoch: 11   Avg_Loss: 0.00587   Acc: 32689.0/40000 (81.723%)\n",
            "Eval:  Avg_Loss: 0.00661   Acc: 7859.0/10000 (78.590%)\n",
            "Train Epoch: 12   Avg_Loss: 0.00519   Acc: 33632.0/40000 (84.080%)\n",
            "Eval:  Avg_Loss: 0.00847   Acc: 7080.0/10000 (70.800%)\n",
            "Train Epoch: 13   Avg_Loss: 0.00481   Acc: 34242.0/40000 (85.605%)\n",
            "Eval:  Avg_Loss: 0.00689   Acc: 7788.0/10000 (77.880%)\n",
            "Train Epoch: 14   Avg_Loss: 0.00426   Acc: 35013.0/40000 (87.532%)\n",
            "Eval:  Avg_Loss: 0.00454   Acc: 8600.0/10000 (86.000%)\n",
            "Train Epoch: 15   Avg_Loss: 0.00380   Acc: 35648.0/40000 (89.120%)\n",
            "Eval:  Avg_Loss: 0.00421   Acc: 8745.0/10000 (87.450%)\n",
            "Train Epoch: 16   Avg_Loss: 0.00342   Acc: 36147.0/40000 (90.368%)\n",
            "Eval:  Avg_Loss: 0.00369   Acc: 8901.0/10000 (89.010%)\n",
            "Train Epoch: 17   Avg_Loss: 0.00309   Acc: 36604.0/40000 (91.510%)\n",
            "Eval:  Avg_Loss: 0.00399   Acc: 8808.0/10000 (88.080%)\n",
            "Train Epoch: 18   Avg_Loss: 0.00286   Acc: 36868.0/40000 (92.170%)\n",
            "Eval:  Avg_Loss: 0.00333   Acc: 9002.0/10000 (90.020%)\n",
            "Train Epoch: 19   Avg_Loss: 0.00261   Acc: 37145.0/40000 (92.862%)\n",
            "Eval:  Avg_Loss: 0.00326   Acc: 9037.0/10000 (90.370%)\n",
            "Train Epoch: 20   Avg_Loss: 0.00245   Acc: 37386.0/40000 (93.465%)\n",
            "Eval:  Avg_Loss: 0.00306   Acc: 9123.0/10000 (91.230%)\n",
            "Train Epoch: 21   Avg_Loss: 0.00227   Acc: 37543.0/40000 (93.858%)\n",
            "Eval:  Avg_Loss: 0.00303   Acc: 9126.0/10000 (91.260%)\n",
            "Train Epoch: 22   Avg_Loss: 0.00212   Acc: 37776.0/40000 (94.440%)\n",
            "Eval:  Avg_Loss: 0.00266   Acc: 9229.0/10000 (92.290%)\n",
            "Train Epoch: 23   Avg_Loss: 0.00200   Acc: 37823.0/40000 (94.558%)\n",
            "Eval:  Avg_Loss: 0.00256   Acc: 9262.0/10000 (92.620%)\n",
            "Train Epoch: 24   Avg_Loss: 0.00188   Acc: 38028.0/40000 (95.070%)\n",
            "Eval:  Avg_Loss: 0.00244   Acc: 9288.0/10000 (92.880%)\n",
            "Train Epoch: 25   Avg_Loss: 0.00177   Acc: 38128.0/40000 (95.320%)\n",
            "Eval:  Avg_Loss: 0.00266   Acc: 9208.0/10000 (92.080%)\n",
            "Train Epoch: 26   Avg_Loss: 0.00167   Acc: 38270.0/40000 (95.675%)\n",
            "Eval:  Avg_Loss: 0.00226   Acc: 9347.0/10000 (93.470%)\n",
            "Train Epoch: 27   Avg_Loss: 0.00157   Acc: 38359.0/40000 (95.898%)\n",
            "Eval:  Avg_Loss: 0.00205   Acc: 9442.0/10000 (94.420%)\n",
            "Train Epoch: 28   Avg_Loss: 0.00148   Acc: 38454.0/40000 (96.135%)\n",
            "Eval:  Avg_Loss: 0.00213   Acc: 9397.0/10000 (93.970%)\n",
            "Train Epoch: 29   Avg_Loss: 0.00142   Acc: 38479.0/40000 (96.198%)\n",
            "Eval:  Avg_Loss: 0.00213   Acc: 9400.0/10000 (94.000%)\n",
            "Train Epoch: 30   Avg_Loss: 0.00135   Acc: 38570.0/40000 (96.425%)\n",
            "Eval:  Avg_Loss: 0.00210   Acc: 9419.0/10000 (94.190%)\n",
            "Train Epoch: 31   Avg_Loss: 0.00132   Acc: 38620.0/40000 (96.550%)\n",
            "Eval:  Avg_Loss: 0.00199   Acc: 9448.0/10000 (94.480%)\n",
            "Train Epoch: 32   Avg_Loss: 0.00122   Acc: 38722.0/40000 (96.805%)\n",
            "Eval:  Avg_Loss: 0.00205   Acc: 9430.0/10000 (94.300%)\n",
            "Train Epoch: 33   Avg_Loss: 0.00121   Acc: 38683.0/40000 (96.707%)\n",
            "Eval:  Avg_Loss: 0.00184   Acc: 9475.0/10000 (94.750%)\n",
            "Train Epoch: 34   Avg_Loss: 0.00112   Acc: 38801.0/40000 (97.002%)\n",
            "Eval:  Avg_Loss: 0.00162   Acc: 9556.0/10000 (95.560%)\n",
            "Train Epoch: 35   Avg_Loss: 0.00106   Acc: 38901.0/40000 (97.253%)\n",
            "Eval:  Avg_Loss: 0.00149   Acc: 9583.0/10000 (95.830%)\n",
            "Train Epoch: 36   Avg_Loss: 0.00106   Acc: 38896.0/40000 (97.240%)\n",
            "Eval:  Avg_Loss: 0.00156   Acc: 9567.0/10000 (95.670%)\n",
            "Train Epoch: 37   Avg_Loss: 0.00099   Acc: 38986.0/40000 (97.465%)\n",
            "Eval:  Avg_Loss: 0.00157   Acc: 9573.0/10000 (95.730%)\n",
            "Train Epoch: 38   Avg_Loss: 0.00095   Acc: 38988.0/40000 (97.470%)\n",
            "Eval:  Avg_Loss: 0.00172   Acc: 9522.0/10000 (95.220%)\n",
            "Train Epoch: 39   Avg_Loss: 0.00092   Acc: 39018.0/40000 (97.545%)\n",
            "Eval:  Avg_Loss: 0.00146   Acc: 9611.0/10000 (96.110%)\n",
            "Train Epoch: 40   Avg_Loss: 0.00086   Acc: 39107.0/40000 (97.768%)\n",
            "Eval:  Avg_Loss: 0.00132   Acc: 9639.0/10000 (96.390%)\n",
            "Train Epoch: 41   Avg_Loss: 0.00083   Acc: 39155.0/40000 (97.888%)\n",
            "Eval:  Avg_Loss: 0.00142   Acc: 9591.0/10000 (95.910%)\n",
            "Train Epoch: 42   Avg_Loss: 0.00080   Acc: 39149.0/40000 (97.873%)\n",
            "Eval:  Avg_Loss: 0.00143   Acc: 9608.0/10000 (96.080%)\n",
            "Train Epoch: 43   Avg_Loss: 0.00077   Acc: 39198.0/40000 (97.995%)\n",
            "Eval:  Avg_Loss: 0.00121   Acc: 9680.0/10000 (96.800%)\n",
            "Train Epoch: 44   Avg_Loss: 0.00072   Acc: 39278.0/40000 (98.195%)\n",
            "Eval:  Avg_Loss: 0.00124   Acc: 9649.0/10000 (96.490%)\n",
            "Train Epoch: 45   Avg_Loss: 0.00071   Acc: 39241.0/40000 (98.103%)\n",
            "Eval:  Avg_Loss: 0.00114   Acc: 9695.0/10000 (96.950%)\n",
            "Train Epoch: 46   Avg_Loss: 0.00068   Acc: 39279.0/40000 (98.198%)\n",
            "Eval:  Avg_Loss: 0.00128   Acc: 9644.0/10000 (96.440%)\n",
            "Train Epoch: 47   Avg_Loss: 0.00070   Acc: 39255.0/40000 (98.138%)\n",
            "Eval:  Avg_Loss: 0.00117   Acc: 9677.0/10000 (96.770%)\n",
            "Train Epoch: 48   Avg_Loss: 0.00071   Acc: 39238.0/40000 (98.095%)\n",
            "Eval:  Avg_Loss: 0.00109   Acc: 9703.0/10000 (97.030%)\n",
            "Train Epoch: 49   Avg_Loss: 0.00061   Acc: 39377.0/40000 (98.442%)\n",
            "Eval:  Avg_Loss: 0.00131   Acc: 9641.0/10000 (96.410%)\n",
            "Train Epoch: 50   Avg_Loss: 0.00060   Acc: 39395.0/40000 (98.488%)\n",
            "Eval:  Avg_Loss: 0.00100   Acc: 9738.0/10000 (97.380%)\n",
            "Train Epoch: 51   Avg_Loss: 0.00056   Acc: 39414.0/40000 (98.535%)\n",
            "Eval:  Avg_Loss: 0.00104   Acc: 9716.0/10000 (97.160%)\n",
            "Train Epoch: 52   Avg_Loss: 0.00056   Acc: 39429.0/40000 (98.573%)\n",
            "Eval:  Avg_Loss: 0.00098   Acc: 9722.0/10000 (97.220%)\n",
            "Train Epoch: 53   Avg_Loss: 0.00052   Acc: 39458.0/40000 (98.645%)\n",
            "Eval:  Avg_Loss: 0.00099   Acc: 9736.0/10000 (97.360%)\n",
            "Train Epoch: 54   Avg_Loss: 0.00053   Acc: 39449.0/40000 (98.623%)\n",
            "Eval:  Avg_Loss: 0.00100   Acc: 9724.0/10000 (97.240%)\n",
            "Train Epoch: 55   Avg_Loss: 0.00052   Acc: 39474.0/40000 (98.685%)\n",
            "Eval:  Avg_Loss: 0.00100   Acc: 9711.0/10000 (97.110%)\n",
            "Train Epoch: 56   Avg_Loss: 0.00057   Acc: 39397.0/40000 (98.493%)\n",
            "Eval:  Avg_Loss: 0.00080   Acc: 9784.0/10000 (97.840%)\n",
            "Train Epoch: 57   Avg_Loss: 0.00043   Acc: 39567.0/40000 (98.918%)\n",
            "Eval:  Avg_Loss: 0.00078   Acc: 9794.0/10000 (97.940%)\n",
            "Train Epoch: 58   Avg_Loss: 0.00043   Acc: 39568.0/40000 (98.920%)\n",
            "Eval:  Avg_Loss: 0.00093   Acc: 9751.0/10000 (97.510%)\n",
            "Train Epoch: 59   Avg_Loss: 0.00045   Acc: 39563.0/40000 (98.907%)\n",
            "Eval:  Avg_Loss: 0.00071   Acc: 9815.0/10000 (98.150%)\n",
            "Train Epoch: 60   Avg_Loss: 0.00041   Acc: 39590.0/40000 (98.975%)\n",
            "Eval:  Avg_Loss: 0.00075   Acc: 9789.0/10000 (97.890%)\n",
            "Train Epoch: 61   Avg_Loss: 0.00039   Acc: 39626.0/40000 (99.065%)\n",
            "Eval:  Avg_Loss: 0.00068   Acc: 9799.0/10000 (97.990%)\n",
            "Train Epoch: 62   Avg_Loss: 0.00039   Acc: 39594.0/40000 (98.985%)\n",
            "Eval:  Avg_Loss: 0.00077   Acc: 9788.0/10000 (97.880%)\n",
            "Train Epoch: 63   Avg_Loss: 0.00037   Acc: 39637.0/40000 (99.093%)\n",
            "Eval:  Avg_Loss: 0.00097   Acc: 9733.0/10000 (97.330%)\n",
            "Train Epoch: 64   Avg_Loss: 0.00046   Acc: 39503.0/40000 (98.758%)\n",
            "Eval:  Avg_Loss: 0.00076   Acc: 9785.0/10000 (97.850%)\n",
            "Train Epoch: 65   Avg_Loss: 0.00035   Acc: 39655.0/40000 (99.138%)\n",
            "Eval:  Avg_Loss: 0.00075   Acc: 9782.0/10000 (97.820%)\n",
            "Train Epoch: 66   Avg_Loss: 0.00035   Acc: 39643.0/40000 (99.108%)\n",
            "Eval:  Avg_Loss: 0.00067   Acc: 9819.0/10000 (98.190%)\n",
            "Train Epoch: 67   Avg_Loss: 0.00032   Acc: 39697.0/40000 (99.243%)\n",
            "Eval:  Avg_Loss: 0.00066   Acc: 9809.0/10000 (98.090%)\n",
            "Train Epoch: 68   Avg_Loss: 0.00033   Acc: 39690.0/40000 (99.225%)\n",
            "Eval:  Avg_Loss: 0.00066   Acc: 9809.0/10000 (98.090%)\n",
            "Train Epoch: 69   Avg_Loss: 0.00032   Acc: 39689.0/40000 (99.222%)\n",
            "Eval:  Avg_Loss: 0.00064   Acc: 9817.0/10000 (98.170%)\n",
            "Train Epoch: 70   Avg_Loss: 0.00030   Acc: 39718.0/40000 (99.295%)\n",
            "Eval:  Avg_Loss: 0.00083   Acc: 9763.0/10000 (97.630%)\n",
            "Train Epoch: 71   Avg_Loss: 0.00030   Acc: 39703.0/40000 (99.258%)\n",
            "Eval:  Avg_Loss: 0.00078   Acc: 9780.0/10000 (97.800%)\n",
            "Train Epoch: 72   Avg_Loss: 0.00032   Acc: 39644.0/40000 (99.110%)\n",
            "Eval:  Avg_Loss: 0.00090   Acc: 9752.0/10000 (97.520%)\n",
            "Train Epoch: 73   Avg_Loss: 0.00029   Acc: 39705.0/40000 (99.263%)\n",
            "Eval:  Avg_Loss: 0.00052   Acc: 9860.0/10000 (98.600%)\n",
            "Train Epoch: 74   Avg_Loss: 0.00024   Acc: 39797.0/40000 (99.493%)\n",
            "Eval:  Avg_Loss: 0.00062   Acc: 9820.0/10000 (98.200%)\n",
            "Train Epoch: 75   Avg_Loss: 0.00027   Acc: 39743.0/40000 (99.358%)\n",
            "Eval:  Avg_Loss: 0.00064   Acc: 9817.0/10000 (98.170%)\n",
            "Train Epoch: 76   Avg_Loss: 0.00025   Acc: 39769.0/40000 (99.422%)\n",
            "Eval:  Avg_Loss: 0.00079   Acc: 9759.0/10000 (97.590%)\n",
            "Train Epoch: 77   Avg_Loss: 0.00034   Acc: 39647.0/40000 (99.118%)\n",
            "Eval:  Avg_Loss: 0.00052   Acc: 9868.0/10000 (98.680%)\n",
            "Train Epoch: 78   Avg_Loss: 0.00024   Acc: 39782.0/40000 (99.455%)\n",
            "Eval:  Avg_Loss: 0.00050   Acc: 9855.0/10000 (98.550%)\n",
            "Train Epoch: 79   Avg_Loss: 0.00023   Acc: 39802.0/40000 (99.505%)\n",
            "Eval:  Avg_Loss: 0.00044   Acc: 9874.0/10000 (98.740%)\n",
            "Train Epoch: 80   Avg_Loss: 0.00023   Acc: 39769.0/40000 (99.422%)\n",
            "Eval:  Avg_Loss: 0.00081   Acc: 9784.0/10000 (97.840%)\n",
            "Train Epoch: 81   Avg_Loss: 0.00034   Acc: 39656.0/40000 (99.140%)\n",
            "Eval:  Avg_Loss: 0.00038   Acc: 9892.0/10000 (98.920%)\n",
            "Train Epoch: 82   Avg_Loss: 0.00019   Acc: 39834.0/40000 (99.585%)\n",
            "Eval:  Avg_Loss: 0.00039   Acc: 9886.0/10000 (98.860%)\n",
            "Train Epoch: 83   Avg_Loss: 0.00019   Acc: 39832.0/40000 (99.580%)\n",
            "Eval:  Avg_Loss: 0.00044   Acc: 9878.0/10000 (98.780%)\n",
            "Train Epoch: 84   Avg_Loss: 0.00023   Acc: 39790.0/40000 (99.475%)\n",
            "Eval:  Avg_Loss: 0.00049   Acc: 9867.0/10000 (98.670%)\n",
            "Train Epoch: 85   Avg_Loss: 0.00020   Acc: 39812.0/40000 (99.530%)\n",
            "Eval:  Avg_Loss: 0.00047   Acc: 9879.0/10000 (98.790%)\n",
            "Train Epoch: 86   Avg_Loss: 0.00023   Acc: 39757.0/40000 (99.393%)\n",
            "Eval:  Avg_Loss: 0.00048   Acc: 9854.0/10000 (98.540%)\n",
            "Train Epoch: 87   Avg_Loss: 0.00020   Acc: 39804.0/40000 (99.510%)\n",
            "Eval:  Avg_Loss: 0.00094   Acc: 9750.0/10000 (97.500%)\n",
            "Train Epoch: 88   Avg_Loss: 0.00041   Acc: 39530.0/40000 (98.825%)\n",
            "Eval:  Avg_Loss: 0.00048   Acc: 9855.0/10000 (98.550%)\n",
            "Train Epoch: 89   Avg_Loss: 0.00018   Acc: 39836.0/40000 (99.590%)\n",
            "Eval:  Avg_Loss: 0.00032   Acc: 9908.0/10000 (99.080%)\n",
            "Train Epoch: 90   Avg_Loss: 0.00016   Acc: 39863.0/40000 (99.658%)\n",
            "Eval:  Avg_Loss: 0.00041   Acc: 9884.0/10000 (98.840%)\n",
            "Train Epoch: 91   Avg_Loss: 0.00018   Acc: 39832.0/40000 (99.580%)\n",
            "Eval:  Avg_Loss: 0.00041   Acc: 9870.0/10000 (98.700%)\n",
            "Train Epoch: 92   Avg_Loss: 0.00018   Acc: 39844.0/40000 (99.610%)\n",
            "Eval:  Avg_Loss: 0.00030   Acc: 9927.0/10000 (99.270%)\n",
            "Train Epoch: 93   Avg_Loss: 0.00018   Acc: 39828.0/40000 (99.570%)\n",
            "Eval:  Avg_Loss: 0.00034   Acc: 9905.0/10000 (99.050%)\n",
            "Train Epoch: 94   Avg_Loss: 0.00017   Acc: 39863.0/40000 (99.658%)\n",
            "Eval:  Avg_Loss: 0.00051   Acc: 9849.0/10000 (98.490%)\n",
            "Train Epoch: 95   Avg_Loss: 0.00016   Acc: 39852.0/40000 (99.630%)\n",
            "Eval:  Avg_Loss: 0.00038   Acc: 9897.0/10000 (98.970%)\n",
            "Train Epoch: 96   Avg_Loss: 0.00016   Acc: 39876.0/40000 (99.690%)\n",
            "Eval:  Avg_Loss: 0.00039   Acc: 9895.0/10000 (98.950%)\n",
            "Train Epoch: 97   Avg_Loss: 0.00017   Acc: 39836.0/40000 (99.590%)\n",
            "Eval:  Avg_Loss: 0.00041   Acc: 9881.0/10000 (98.810%)\n"
          ],
          "name": "stdout"
        }
      ]
    },
    {
      "cell_type": "code",
      "metadata": {
        "id": "3S2sRq3ufLHE",
        "colab_type": "code",
        "outputId": "435c4453-d3bb-4e6f-9885-f2eb7789e456",
        "colab": {
          "base_uri": "https://localhost:8080/",
          "height": 347
        }
      },
      "source": [
        "plt.plot(train_accuracies, color=\"darkcyan\", label=\"train\")\n",
        "plt.plot(test_accuracies, color=\"tomato\",label=\"validation\")\n",
        "plt.show()"
      ],
      "execution_count": 0,
      "outputs": [
        {
          "output_type": "display_data",
          "data": {
            "image/png": "[encoded data removed]",
            "text/plain": [
              "<Figure size 576x396 with 1 Axes>"
            ]
          },
          "metadata": {
            "tags": []
          }
        }
      ]
    },
    {
      "cell_type": "code",
      "metadata": {
        "id": "NJUBzO3ffOGu",
        "colab_type": "code",
        "outputId": "984be00b-19d9-4176-e5cc-044807a571ae",
        "colab": {
          "base_uri": "https://localhost:8080/",
          "height": 347
        }
      },
      "source": [
        "plt.plot(train_losses, color=\"darkcyan\", label=\"train\")\n",
        "plt.plot(test_losses, color=\"tomato\",label=\"validation\")\n",
        "plt.show()"
      ],
      "execution_count": 0,
      "outputs": [
        {
          "output_type": "display_data",
          "data": {
            "image/png": "[encoded data removed]",
            "text/plain": [
              "<Figure size 576x396 with 1 Axes>"
            ]
          },
          "metadata": {
            "tags": []
          }
        }
      ]
    },
    {
      "cell_type": "code",
      "metadata": {
        "id": "9PZi7q9ZfQBc",
        "colab_type": "code",
        "colab": {}
      },
      "source": [
        "predictions=[]\n",
        "\n",
        "for i, (image,label) in enumerate(test_loader):\n",
        "    image=image.unsqueeze_(0)\n",
        "    image=image.permute(1, 0, 2,3)\n",
        "    \n",
        "    if use_gpu:\n",
        "        image=image.cuda()\n",
        "        label=label.cuda()\n",
        "\n",
        "    prediction=resnet(image)\n",
        "    pred_classes=prediction.data.max(1,keepdim=True)[1]\n",
        "    predictions.append(pred_classes)"
      ],
      "execution_count": 0,
      "outputs": []
    },
    {
      "cell_type": "code",
      "metadata": {
        "id": "HcCD8tVyfTPS",
        "colab_type": "code",
        "colab": {}
      },
      "source": [
        "results=[]\n",
        "for i in predictions:\n",
        "    for j in i:\n",
        "        results.append(j.item())"
      ],
      "execution_count": 0,
      "outputs": []
    },
    {
      "cell_type": "code",
      "metadata": {
        "id": "lnHRk8XHC0N0",
        "colab_type": "code",
        "colab": {}
      },
      "source": [
        "test_y_pred_df = pd.DataFrame(results, columns=('Label',))\n",
        "test_y_pred_df.index.name = 'Id'\n",
        "file=test_y_pred_df.to_csv()"
      ],
      "execution_count": 0,
      "outputs": []
    },
    {
      "cell_type": "code",
      "metadata": {
        "id": "FfLOyAmxfYFM",
        "colab_type": "code",
        "colab": {}
      },
      "source": [
        "from google.colab import files\n",
        "\n",
        "with open('resnet.csv','w') as f:\n",
        "    f.write(file)\n",
        "    \n",
        "files.download('resnet.csv')"
      ],
      "execution_count": 0,
      "outputs": []
    }
  ]
}