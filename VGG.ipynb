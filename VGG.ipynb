{
  "nbformat": 4,
  "nbformat_minor": 0,
  "metadata": {
    "colab": {
      "name": "VGG_3blocks_Patch=200_epoch=50.ipynb",
      "provenance": [],
      "collapsed_sections": []
    },
    "kernelspec": {
      "name": "python3",
      "display_name": "Python 3"
    },
    "accelerator": "GPU"
  },
  "cells": [
    {
      "cell_type": "code",
      "metadata": {
        "id": "lsQB1PIBqC81",
        "colab_type": "code",
        "colab": {}
      },
      "source": [
        "import platform\n",
        "import io\n",
        "\n",
        "import matplotlib.pyplot as plt\n",
        "from matplotlib.pyplot import cm\n",
        "\n",
        "import torch\n",
        "import torch.nn as nn\n",
        "import torch.optim as optim\n",
        "\n",
        "import torchvision\n",
        "import torchvision.transforms as transforms\n",
        "\n",
        "import pandas as pd\n",
        "import numpy as np\n",
        "import matplotlib.pyplot as plt\n",
        "\n",
        "import torch.nn.functional as F\n",
        "from torch.utils.data import DataLoader, Dataset"
      ],
      "execution_count": 0,
      "outputs": []
    },
    {
      "cell_type": "code",
      "metadata": {
        "id": "Xyso7Re5roFP",
        "colab_type": "code",
        "colab": {}
      },
      "source": [
        "# Code to read csv file into Colaboratory:\n",
        "!pip install -U -q PyDrive\n",
        "from pydrive.auth import GoogleAuth\n",
        "from pydrive.drive import GoogleDrive\n",
        "from google.colab import auth\n",
        "from oauth2client.client import GoogleCredentials\n",
        "# Authenticate and create the PyDrive client.\n",
        "auth.authenticate_user()\n",
        "gauth = GoogleAuth()\n",
        "gauth.credentials = GoogleCredentials.get_application_default()\n",
        "drive = GoogleDrive(gauth)"
      ],
      "execution_count": 0,
      "outputs": []
    },
    {
      "cell_type": "code",
      "metadata": {
        "id": "VyXlqalzsG8b",
        "colab_type": "code",
        "colab": {}
      },
      "source": [
        "train_link=\"https://drive.google.com/open?id=1MHimMDZ7wlYvLsOilWmIqQnxRo4xLn8O\"\n",
        "test_link=\"https://drive.google.com/open?id=14aEt_3irPQ5MI8ZTFSzj17vwvar00QU0\"\n",
        "label_link=\"https://drive.google.com/open?id=18xt_fv9r_OpvtGg7f0axAZAgqD8q_sku\""
      ],
      "execution_count": 0,
      "outputs": []
    },
    {
      "cell_type": "code",
      "metadata": {
        "id": "1BA2PupVtIAC",
        "colab_type": "code",
        "colab": {}
      },
      "source": [
        "def getFile(link,pkl):\n",
        "    fluff, id = link.split('=')\n",
        "    downloaded = drive.CreateFile({'id':id})\n",
        "    if pkl is True:\n",
        "        downloaded.GetContentFile('file.pkl')\n",
        "        file=pd.read_pickle('file.pkl')\n",
        "        return file\n",
        "    else:\n",
        "        downloaded.GetContentFile('label.csv')\n",
        "        file=pd.read_csv('label.csv')\n",
        "        return file"
      ],
      "execution_count": 0,
      "outputs": []
    },
    {
      "cell_type": "code",
      "metadata": {
        "id": "rH1zKRQSsxzG",
        "colab_type": "code",
        "colab": {}
      },
      "source": [
        "train_images=getFile(train_link,True)\n",
        "train_label=getFile(label_link,False)\n",
        "test_images=getFile(test_link,True)"
      ],
      "execution_count": 0,
      "outputs": []
    },
    {
      "cell_type": "code",
      "metadata": {
        "id": "LPVZSFunqC9C",
        "colab_type": "code",
        "colab": {}
      },
      "source": [
        "# train_images=pd.read_pickle(train_pickle)\n",
        "# test_images=pd.read_pickle(test_pickle)\n",
        "# train_labels=pd.read_csv(train_label)"
      ],
      "execution_count": 0,
      "outputs": []
    },
    {
      "cell_type": "code",
      "metadata": {
        "id": "mQO0MhPnqC9G",
        "colab_type": "code",
        "colab": {}
      },
      "source": [
        "# plt.imshow(train_images[0])"
      ],
      "execution_count": 0,
      "outputs": []
    },
    {
      "cell_type": "code",
      "metadata": {
        "id": "N_9fjWetqC9K",
        "colab_type": "code",
        "colab": {}
      },
      "source": [
        "# train_labels.iloc[:10]"
      ],
      "execution_count": 0,
      "outputs": []
    },
    {
      "cell_type": "code",
      "metadata": {
        "id": "4KVBYjqeqC9P",
        "colab_type": "code",
        "colab": {}
      },
      "source": [
        "class DatasetMNIST(Dataset):\n",
        "    \n",
        "    def __init__(self, x, y, transform=None):\n",
        "        self.transform = transform\n",
        "        self.data=x\n",
        "        self.labels=y\n",
        "        self.train=True\n",
        "        if y is None:\n",
        "            self.labels=pd.DataFrame(np.zeros([len(x),2]))\n",
        "            self.train=False\n",
        "        \n",
        "    def __len__(self):\n",
        "        return len(self.data)\n",
        "    \n",
        "    def __getitem__(self, index):\n",
        "        # load image as ndarray type (Height * Width * Channels)\n",
        "        # be carefull for converting dtype to np.uint8 [Unsigned integer (0 to 255)]\n",
        "        # in this example, i don't use ToTensor() method of torchvision.transforms\n",
        "        # so you can convert numpy ndarray shape to tensor in PyTorch (H, W, C) --> (C, H, W)\n",
        "        image = self.data[index]\n",
        "        label=-1\n",
        "        if self.train is True:\n",
        "            #label = self.labels.iloc[index.item(),1]\n",
        "            label = self.labels.iloc[index,1]\n",
        "        \n",
        "        if self.transform is not None:\n",
        "            image = torch.from_numpy(image)\n",
        "            \n",
        "        return image, label"
      ],
      "execution_count": 0,
      "outputs": []
    },
    {
      "cell_type": "code",
      "metadata": {
        "id": "RSpdfofKqC9T",
        "colab_type": "code",
        "colab": {}
      },
      "source": [
        "transform=transforms.ToTensor()\n",
        "train_image=DatasetMNIST(train_images,train_label,transform)\n",
        "train_size = int(0.8 * len(train_image))\n",
        "train,valid=torch.utils.data.dataset.random_split(train_image,[train_size,len(train_image)-train_size])"
      ],
      "execution_count": 0,
      "outputs": []
    },
    {
      "cell_type": "code",
      "metadata": {
        "id": "21Yv9uvAqC9Z",
        "colab_type": "code",
        "colab": {}
      },
      "source": [
        "BATCH_SIZE=200\n",
        "\n",
        "train_loader=torch.utils.data.DataLoader(train,batch_size=BATCH_SIZE,shuffle=True)\n",
        "valid_loader=torch.utils.data.DataLoader(valid,batch_size=BATCH_SIZE,shuffle=False)"
      ],
      "execution_count": 0,
      "outputs": []
    },
    {
      "cell_type": "code",
      "metadata": {
        "id": "f_IL78PfqC9d",
        "colab_type": "code",
        "colab": {}
      },
      "source": [
        "class CNN(nn.Module):\n",
        "    def __init__(self,filter_size=3,padding_size=1,stride_size=1):\n",
        "        super(CNN,self).__init__()\n",
        "        self.step1=nn.Sequential(\n",
        "            nn.Conv2d(1,32,kernel_size=filter_size,padding=padding_size),\n",
        "            nn.ReLU(),\n",
        "            nn.Conv2d(32,32,kernel_size=filter_size,padding=padding_size),\n",
        "            nn.ReLU(),\n",
        "            nn.MaxPool2d(2),\n",
        "            #\n",
        "            nn.Conv2d(32,32,kernel_size=filter_size,padding=padding_size),\n",
        "            nn.ReLU(),\n",
        "            nn.Conv2d(32,32,kernel_size=filter_size,padding=padding_size),\n",
        "            nn.ReLU(),\n",
        "            nn.MaxPool2d(2),\n",
        "            #\n",
        "            nn.Conv2d(32,64,kernel_size=filter_size,padding=padding_size),\n",
        "            nn.ReLU(),\n",
        "            nn.Conv2d(64,64,kernel_size=filter_size,padding=padding_size),\n",
        "            nn.ReLU(),\n",
        "            nn.Conv2d(64,64,kernel_size=filter_size,padding=padding_size),\n",
        "            nn.ReLU(),\n",
        "            nn.MaxPool2d(2),\n",
        "#             #\n",
        "#             nn.Conv2d(64,64,kernel_size=filter_size,padding=padding_size),\n",
        "#             nn.ReLU(),\n",
        "#             nn.Conv2d(64,64,kernel_size=filter_size,padding=padding_size),\n",
        "#             nn.ReLU(),\n",
        "#             nn.Conv2d(64,64,kernel_size=filter_size,padding=padding_size),\n",
        "#             nn.ReLU(),\n",
        "#             nn.MaxPool2d(2),\n",
        "            #\n",
        "#             nn.Linear(4*4*64,4*4*64),\n",
        "        )\n",
        "        self.step2=nn.Sequential(\n",
        "            nn.Dropout(),\n",
        "            nn.Linear(16*16*64,4096),\n",
        "            nn.ReLU(),\n",
        "            nn.Dropout(),\n",
        "            nn.Linear(4096,256),\n",
        "            nn.ReLU(),\n",
        "            nn.Dropout(),\n",
        "            nn.Linear(256,10),\n",
        "            nn.Softmax()\n",
        "        )\n",
        "    \n",
        "    def forward(self,x):\n",
        "        out=self.step1(x)\n",
        "        out=out.view(out.size(0), -1)\n",
        "        out=self.step2(out)\n",
        "        return out"
      ],
      "execution_count": 0,
      "outputs": []
    },
    {
      "cell_type": "code",
      "metadata": {
        "id": "niUIzDXDqC9g",
        "colab_type": "code",
        "outputId": "005a5f18-2160-4892-c350-1e58d5ccc14e",
        "colab": {
          "base_uri": "https://localhost:8080/",
          "height": 33
        }
      },
      "source": [
        "cnn=CNN()\n",
        "use_gpu=torch.cuda.is_available()\n",
        "print(\"GPU Available:{}\".format(use_gpu))\n",
        "if use_gpu:\n",
        "    cnn.cuda()"
      ],
      "execution_count": 0,
      "outputs": [
        {
          "output_type": "stream",
          "text": [
            "GPU Available:True\n"
          ],
          "name": "stdout"
        }
      ]
    },
    {
      "cell_type": "code",
      "metadata": {
        "id": "2xkl8oFMqC9l",
        "colab_type": "code",
        "colab": {}
      },
      "source": [
        "criterion=nn.CrossEntropyLoss()"
      ],
      "execution_count": 0,
      "outputs": []
    },
    {
      "cell_type": "code",
      "metadata": {
        "id": "9U-WDP0QqC9o",
        "colab_type": "code",
        "colab": {}
      },
      "source": [
        "def trainCNN(epoch, model,train_loader,optimizer):\n",
        "    model.train()\n",
        "\n",
        "    total_loss=0;\n",
        "    correct=0;\n",
        "\n",
        "    for i, (image,label) in enumerate(train_loader):\n",
        "\n",
        "        optimizer.zero_grad()\n",
        "\n",
        "    #images=image.view(-1,28*28)\n",
        "\n",
        "        image=image.unsqueeze_(0)\n",
        "        image=image.permute(1, 0, 2,3)\n",
        "\n",
        "        if use_gpu:\n",
        "            image=image.cuda()\n",
        "            label=label.cuda()\n",
        "\n",
        "        prediction=model(image)\n",
        "\n",
        "        loss=criterion(prediction,label)\n",
        "\n",
        "        loss.backward()\n",
        "\n",
        "        optimizer.step()\n",
        "\n",
        "        total_loss+=loss\n",
        "        pred_classes = prediction.data.max(1,keepdim=True)[1]\n",
        "        correct += pred_classes.eq(label.data.view_as(pred_classes)).sum().double()\n",
        "\n",
        "    mean_loss=total_loss/len(train_loader.dataset)\n",
        "    acc=correct/len(train_loader.dataset)\n",
        "\n",
        "    print('Train Epoch: {}   Avg_Loss: {:.5f}   Acc: {}/{} ({:.3f}%)'.format(\n",
        "        epoch, mean_loss, correct, len(train_loader.dataset),\n",
        "        100. * acc))\n",
        "\n",
        "    return mean_loss, acc"
      ],
      "execution_count": 0,
      "outputs": []
    },
    {
      "cell_type": "code",
      "metadata": {
        "id": "XCobV5kcqC9q",
        "colab_type": "code",
        "colab": {}
      },
      "source": [
        "def evalCNN(model,eval_loader):\n",
        "  \n",
        "    model.eval()\n",
        "\n",
        "    total_loss=0\n",
        "    correct=0\n",
        "\n",
        "    for i, (image,label) in enumerate(eval_loader):\n",
        "\n",
        "        optimizer.zero_grad()\n",
        "\n",
        "    #images=image.view(-1,28*28)\n",
        "\n",
        "        image=image.unsqueeze_(0)\n",
        "        image=image.permute(1, 0, 2,3)\n",
        "\n",
        "        if use_gpu:\n",
        "            image=image.cuda()\n",
        "            label=label.cuda()\n",
        "\n",
        "        prediction=model(image)\n",
        "\n",
        "        loss=criterion(prediction,label)\n",
        "\n",
        "        loss.backward()\n",
        "\n",
        "        optimizer.step()\n",
        "\n",
        "        total_loss+=loss\n",
        "\n",
        "        pred_classes=prediction.data.max(1,keepdim=True)[1]\n",
        "\n",
        "        correct+=pred_classes.eq(label.data.view_as(pred_classes)).sum().double()\n",
        "\n",
        "    mean_loss=total_loss/len(eval_loader.dataset)\n",
        "    acc=correct/len(eval_loader.dataset)\n",
        "\n",
        "    print('Eval:  Avg_Loss: {:.5f}   Acc: {}/{} ({:.3f}%)'.format(\n",
        "        mean_loss, correct, len(eval_loader.dataset),\n",
        "        100. *acc)) \n",
        "\n",
        "    return mean_loss, acc"
      ],
      "execution_count": 0,
      "outputs": []
    },
    {
      "cell_type": "code",
      "metadata": {
        "colab_type": "code",
        "id": "QoSu-J3d8-Nf",
        "colab": {}
      },
      "source": [
        "#only evaluation\n",
        "def evalCNN(model,eval_loader):\n",
        "  \n",
        "    model.eval()\n",
        "\n",
        "    total_loss=0\n",
        "    correct=0\n",
        "\n",
        "    for i, (image,label) in enumerate(eval_loader):\n",
        "\n",
        "        optimizer.zero_grad()\n",
        "\n",
        "    #images=image.view(-1,28*28)\n",
        "\n",
        "        image=image.unsqueeze_(0)\n",
        "        image=image.permute(1, 0, 2, 3)\n",
        "\n",
        "        if use_gpu:\n",
        "            image=image.cuda()\n",
        "            label=label.cuda()\n",
        "\n",
        "        prediction=model(image)\n",
        "\n",
        "        #loss=criterion(prediction,label)\n",
        "\n",
        "        #loss.backward()\n",
        "\n",
        "        #optimizer.step()\n",
        "\n",
        "        #total_loss+=loss\n",
        "\n",
        "        pred_classes=prediction.data.max(1,keepdim=True)[1]\n",
        "\n",
        "        correct+=pred_classes.eq(label.data.view_as(pred_classes)).sum().double()\n",
        "\n",
        "    #mean_loss=total_loss/len(eval_loader.dataset)\n",
        "    acc=correct/len(eval_loader.dataset)\n",
        "\n",
        "    print('Eval:  Acc: {}/{} ({:.3f}%)'.format(\n",
        "         correct, len(eval_loader.dataset),\n",
        "        100. *acc)) \n",
        "\n",
        "    return acc"
      ],
      "execution_count": 0,
      "outputs": []
    },
    {
      "cell_type": "code",
      "metadata": {
        "id": "LVMV8twSqC9s",
        "colab_type": "code",
        "colab": {}
      },
      "source": [
        "# from google.colab import drive\n",
        "# drive.mount('/content/gdrive')"
      ],
      "execution_count": 0,
      "outputs": []
    },
    {
      "cell_type": "code",
      "metadata": {
        "id": "GiKMRpCMk0UL",
        "colab_type": "code",
        "colab": {}
      },
      "source": [
        "def save_model(epoch, model, path='./'):\n",
        "    \n",
        "    # file name and path \n",
        "    filename = path + 'cnn_{}.pt'.format(epoch)\n",
        "    \n",
        "    # load the model parameters \n",
        "    torch.save(model.state_dict(), filename)\n",
        "    \n",
        "    \n",
        "    return model"
      ],
      "execution_count": 0,
      "outputs": []
    },
    {
      "cell_type": "code",
      "metadata": {
        "id": "5rOL8mxeqC9u",
        "colab_type": "code",
        "outputId": "88d3b705-27d7-4f9f-ddb0-4ef769dc342c",
        "colab": {
          "base_uri": "https://localhost:8080/",
          "height": 1000
        }
      },
      "source": [
        "optimizer=optim.Adam(cnn.parameters(),lr=0.0001)\n",
        "# Number of epochs \n",
        "numEpochs = 50\n",
        "\n",
        "# checkpoint frequency \n",
        "checkpoint_freq = 10\n",
        "\n",
        "# path to save the data \n",
        "path = './'\n",
        "\n",
        "# empty lists \n",
        "train_losses = []\n",
        "test_losses = []\n",
        "\n",
        "train_accuracies = []\n",
        "test_accuracies = []\n",
        "\n",
        "# traininng \n",
        "for epoch in range(1, numEpochs + 1):\n",
        "    \n",
        "    # train() function (see above)\n",
        "    train_loss, train_acc = trainCNN(epoch, cnn, train_loader, optimizer)\n",
        "    \n",
        "    # eval() functionn (see above)\n",
        "    #test_loss, \n",
        "    test_acc = evalCNN(cnn, valid_loader)    \n",
        "    \n",
        "    # append lists for plotting and printing \n",
        "    train_losses.append(train_loss)    \n",
        "    #test_losses.append(test_loss)\n",
        "    \n",
        "    train_accuracies.append(train_acc)    \n",
        "    test_accuracies.append(test_acc)\n",
        "    \n",
        "    # Checkpoint\n",
        "    if epoch % checkpoint_freq ==0:\n",
        "        save_model(epoch, cnn, path)\n",
        "\n",
        "# Last checkpoint\n",
        "save_model(numEpochs, cnn, path)\n",
        "    \n",
        "print(\"\\n\\n\\nOptimization ended.\\n\") "
      ],
      "execution_count": 0,
      "outputs": [
        {
          "output_type": "stream",
          "text": [
            "/usr/local/lib/python3.6/dist-packages/torch/nn/modules/container.py:92: UserWarning: Implicit dimension choice for softmax has been deprecated. Change the call to include dim=X as an argument.\n",
            "  input = module(input)\n"
          ],
          "name": "stderr"
        },
        {
          "output_type": "stream",
          "text": [
            "Train Epoch: 1   Avg_Loss: 0.00763   Acc: 37455.0/40000 (93.638%)\n",
            "Eval:  Acc: 9440.0/10000 (94.400%)\n",
            "Train Epoch: 2   Avg_Loss: 0.00762   Acc: 37522.0/40000 (93.805%)\n",
            "Eval:  Acc: 9493.0/10000 (94.930%)\n",
            "Train Epoch: 3   Avg_Loss: 0.00761   Acc: 37598.0/40000 (93.995%)\n",
            "Eval:  Acc: 9512.0/10000 (95.120%)\n",
            "Train Epoch: 4   Avg_Loss: 0.00761   Acc: 37624.0/40000 (94.060%)\n",
            "Eval:  Acc: 9497.0/10000 (94.970%)\n",
            "Train Epoch: 5   Avg_Loss: 0.00760   Acc: 37648.0/40000 (94.120%)\n",
            "Eval:  Acc: 9500.0/10000 (95.000%)\n",
            "Train Epoch: 6   Avg_Loss: 0.00760   Acc: 37685.0/40000 (94.213%)\n",
            "Eval:  Acc: 9453.0/10000 (94.530%)\n",
            "Train Epoch: 7   Avg_Loss: 0.00760   Acc: 37699.0/40000 (94.248%)\n",
            "Eval:  Acc: 9440.0/10000 (94.400%)\n",
            "Train Epoch: 8   Avg_Loss: 0.00759   Acc: 37747.0/40000 (94.368%)\n",
            "Eval:  Acc: 9441.0/10000 (94.410%)\n",
            "Train Epoch: 9   Avg_Loss: 0.00759   Acc: 37774.0/40000 (94.435%)\n",
            "Eval:  Acc: 9501.0/10000 (95.010%)\n",
            "Train Epoch: 10   Avg_Loss: 0.00758   Acc: 37842.0/40000 (94.605%)\n",
            "Eval:  Acc: 9451.0/10000 (94.510%)\n",
            "Train Epoch: 11   Avg_Loss: 0.00758   Acc: 37841.0/40000 (94.603%)\n",
            "Eval:  Acc: 9455.0/10000 (94.550%)\n",
            "Train Epoch: 12   Avg_Loss: 0.00758   Acc: 37868.0/40000 (94.670%)\n",
            "Eval:  Acc: 9502.0/10000 (95.020%)\n",
            "Train Epoch: 13   Avg_Loss: 0.00758   Acc: 37809.0/40000 (94.523%)\n",
            "Eval:  Acc: 9504.0/10000 (95.040%)\n",
            "Train Epoch: 14   Avg_Loss: 0.00757   Acc: 37879.0/40000 (94.698%)\n",
            "Eval:  Acc: 9471.0/10000 (94.710%)\n",
            "Train Epoch: 15   Avg_Loss: 0.00757   Acc: 37860.0/40000 (94.650%)\n",
            "Eval:  Acc: 9502.0/10000 (95.020%)\n",
            "Train Epoch: 16   Avg_Loss: 0.00757   Acc: 37904.0/40000 (94.760%)\n",
            "Eval:  Acc: 9380.0/10000 (93.800%)\n",
            "Train Epoch: 17   Avg_Loss: 0.00757   Acc: 37908.0/40000 (94.770%)\n",
            "Eval:  Acc: 9462.0/10000 (94.620%)\n",
            "Train Epoch: 18   Avg_Loss: 0.00756   Acc: 37949.0/40000 (94.873%)\n",
            "Eval:  Acc: 9484.0/10000 (94.840%)\n",
            "Train Epoch: 19   Avg_Loss: 0.00756   Acc: 37971.0/40000 (94.928%)\n",
            "Eval:  Acc: 9437.0/10000 (94.370%)\n",
            "Train Epoch: 20   Avg_Loss: 0.00756   Acc: 37974.0/40000 (94.935%)\n",
            "Eval:  Acc: 9433.0/10000 (94.330%)\n",
            "Train Epoch: 21   Avg_Loss: 0.00757   Acc: 37923.0/40000 (94.808%)\n",
            "Eval:  Acc: 9444.0/10000 (94.440%)\n",
            "Train Epoch: 22   Avg_Loss: 0.00755   Acc: 38022.0/40000 (95.055%)\n",
            "Eval:  Acc: 9470.0/10000 (94.700%)\n",
            "Train Epoch: 23   Avg_Loss: 0.00755   Acc: 38034.0/40000 (95.085%)\n",
            "Eval:  Acc: 9485.0/10000 (94.850%)\n",
            "Train Epoch: 24   Avg_Loss: 0.00755   Acc: 38046.0/40000 (95.115%)\n",
            "Eval:  Acc: 9406.0/10000 (94.060%)\n",
            "Train Epoch: 25   Avg_Loss: 0.00755   Acc: 38063.0/40000 (95.157%)\n",
            "Eval:  Acc: 9464.0/10000 (94.640%)\n",
            "Train Epoch: 26   Avg_Loss: 0.00755   Acc: 38077.0/40000 (95.192%)\n",
            "Eval:  Acc: 9489.0/10000 (94.890%)\n",
            "Train Epoch: 27   Avg_Loss: 0.00755   Acc: 38020.0/40000 (95.050%)\n",
            "Eval:  Acc: 9431.0/10000 (94.310%)\n",
            "Train Epoch: 28   Avg_Loss: 0.00754   Acc: 38149.0/40000 (95.373%)\n",
            "Eval:  Acc: 9467.0/10000 (94.670%)\n",
            "Train Epoch: 29   Avg_Loss: 0.00754   Acc: 38166.0/40000 (95.415%)\n",
            "Eval:  Acc: 9484.0/10000 (94.840%)\n",
            "Train Epoch: 30   Avg_Loss: 0.00754   Acc: 38128.0/40000 (95.320%)\n",
            "Eval:  Acc: 9477.0/10000 (94.770%)\n",
            "Train Epoch: 31   Avg_Loss: 0.00754   Acc: 38173.0/40000 (95.433%)\n",
            "Eval:  Acc: 9506.0/10000 (95.060%)\n",
            "Train Epoch: 32   Avg_Loss: 0.00753   Acc: 38234.0/40000 (95.585%)\n",
            "Eval:  Acc: 9472.0/10000 (94.720%)\n",
            "Train Epoch: 33   Avg_Loss: 0.00752   Acc: 38324.0/40000 (95.810%)\n",
            "Eval:  Acc: 9453.0/10000 (94.530%)\n",
            "Train Epoch: 34   Avg_Loss: 0.00752   Acc: 38321.0/40000 (95.802%)\n",
            "Eval:  Acc: 9452.0/10000 (94.520%)\n",
            "Train Epoch: 35   Avg_Loss: 0.00752   Acc: 38303.0/40000 (95.758%)\n",
            "Eval:  Acc: 9357.0/10000 (93.570%)\n",
            "Train Epoch: 36   Avg_Loss: 0.00751   Acc: 38392.0/40000 (95.980%)\n",
            "Eval:  Acc: 9478.0/10000 (94.780%)\n",
            "Train Epoch: 37   Avg_Loss: 0.00750   Acc: 38481.0/40000 (96.203%)\n",
            "Eval:  Acc: 9488.0/10000 (94.880%)\n",
            "Train Epoch: 38   Avg_Loss: 0.00751   Acc: 38389.0/40000 (95.973%)\n",
            "Eval:  Acc: 9462.0/10000 (94.620%)\n",
            "Train Epoch: 39   Avg_Loss: 0.00749   Acc: 38547.0/40000 (96.368%)\n",
            "Eval:  Acc: 9474.0/10000 (94.740%)\n",
            "Train Epoch: 40   Avg_Loss: 0.00749   Acc: 38577.0/40000 (96.443%)\n",
            "Eval:  Acc: 9430.0/10000 (94.300%)\n",
            "Train Epoch: 41   Avg_Loss: 0.00748   Acc: 38645.0/40000 (96.612%)\n",
            "Eval:  Acc: 9447.0/10000 (94.470%)\n",
            "Train Epoch: 42   Avg_Loss: 0.00748   Acc: 38619.0/40000 (96.548%)\n",
            "Eval:  Acc: 9462.0/10000 (94.620%)\n",
            "Train Epoch: 43   Avg_Loss: 0.00747   Acc: 38692.0/40000 (96.730%)\n",
            "Eval:  Acc: 9427.0/10000 (94.270%)\n",
            "Train Epoch: 44   Avg_Loss: 0.00749   Acc: 38570.0/40000 (96.425%)\n",
            "Eval:  Acc: 9446.0/10000 (94.460%)\n",
            "Train Epoch: 45   Avg_Loss: 0.00747   Acc: 38732.0/40000 (96.830%)\n",
            "Eval:  Acc: 9430.0/10000 (94.300%)\n",
            "Train Epoch: 46   Avg_Loss: 0.00746   Acc: 38745.0/40000 (96.863%)\n",
            "Eval:  Acc: 9499.0/10000 (94.990%)\n",
            "Train Epoch: 47   Avg_Loss: 0.00745   Acc: 38831.0/40000 (97.078%)\n",
            "Eval:  Acc: 9482.0/10000 (94.820%)\n",
            "Train Epoch: 48   Avg_Loss: 0.00746   Acc: 38811.0/40000 (97.028%)\n",
            "Eval:  Acc: 9488.0/10000 (94.880%)\n",
            "Train Epoch: 49   Avg_Loss: 0.00746   Acc: 38795.0/40000 (96.988%)\n",
            "Eval:  Acc: 9471.0/10000 (94.710%)\n",
            "Train Epoch: 50   Avg_Loss: 0.00746   Acc: 38793.0/40000 (96.983%)\n",
            "Eval:  Acc: 9515.0/10000 (95.150%)\n",
            "\n",
            "\n",
            "\n",
            "Optimization ended.\n",
            "\n"
          ],
          "name": "stdout"
        }
      ]
    },
    {
      "cell_type": "code",
      "metadata": {
        "id": "vAISfam4qC9y",
        "colab_type": "code",
        "outputId": "826308c4-dd72-4978-d367-47aa31c21e0d",
        "colab": {
          "base_uri": "https://localhost:8080/",
          "height": 265
        }
      },
      "source": [
        "plt.plot(train_accuracies, color=\"darkcyan\", label=\"train\")\n",
        "plt.plot(test_accuracies, color=\"tomato\",label=\"validation\")\n",
        "plt.show()"
      ],
      "execution_count": 0,
      "outputs": [
        {
          "output_type": "display_data",
          "data": {
            "image/png": "[encoded data removed]",
            "text/plain": [
              "<Figure size 432x288 with 1 Axes>"
            ]
          },
          "metadata": {
            "tags": []
          }
        }
      ]
    },
    {
      "cell_type": "code",
      "metadata": {
        "id": "Piiq5-yNSW2X",
        "colab_type": "code",
        "colab": {}
      },
      "source": [
        "test=DatasetMNIST(test_images,None,transform)"
      ],
      "execution_count": 0,
      "outputs": []
    },
    {
      "cell_type": "code",
      "metadata": {
        "id": "LiubwixGT0og",
        "colab_type": "code",
        "colab": {}
      },
      "source": [
        "test_loader=torch.utils.data.DataLoader(test,batch_size=BATCH_SIZE,shuffle=False)"
      ],
      "execution_count": 0,
      "outputs": []
    },
    {
      "cell_type": "code",
      "metadata": {
        "id": "4llORkUtUCdz",
        "colab_type": "code",
        "outputId": "f8ca13ab-9626-4b21-ae07-73bd3b388265",
        "colab": {
          "base_uri": "https://localhost:8080/",
          "height": 70
        }
      },
      "source": [
        "cnn.eval()\n",
        "predictions=[]\n",
        "\n",
        "for i, (image,label) in enumerate(test_loader):\n",
        "\n",
        "    image=image.unsqueeze_(0)\n",
        "    image=image.permute(1, 0, 2,3)\n",
        "\n",
        "    if use_gpu:\n",
        "        image=image.cuda()\n",
        "        label=label.cuda()\n",
        "\n",
        "    prediction=cnn(image)\n",
        "    pred_classes=prediction.data.max(1,keepdim=True)[1]\n",
        "    predictions.append(pred_classes)"
      ],
      "execution_count": 0,
      "outputs": [
        {
          "output_type": "stream",
          "text": [
            "/usr/local/lib/python3.6/dist-packages/torch/nn/modules/container.py:92: UserWarning: Implicit dimension choice for softmax has been deprecated. Change the call to include dim=X as an argument.\n",
            "  input = module(input)\n"
          ],
          "name": "stderr"
        }
      ]
    },
    {
      "cell_type": "code",
      "metadata": {
        "id": "jAhMN35iTAxZ",
        "colab_type": "code",
        "outputId": "5d817f6a-9ce5-4bb5-e228-62646981ae72",
        "colab": {
          "base_uri": "https://localhost:8080/",
          "height": 34
        }
      },
      "source": [
        "len(predictions[-2])\n"
      ],
      "execution_count": 0,
      "outputs": [
        {
          "output_type": "execute_result",
          "data": {
            "text/plain": [
              "200"
            ]
          },
          "metadata": {
            "tags": []
          },
          "execution_count": 24
        }
      ]
    },
    {
      "cell_type": "code",
      "metadata": {
        "id": "OEBlgKVpTbzE",
        "colab_type": "code",
        "colab": {}
      },
      "source": [
        "results=[]\n",
        "for i in predictions:\n",
        "    for j in i:\n",
        "        results.append(j.item())"
      ],
      "execution_count": 0,
      "outputs": []
    },
    {
      "cell_type": "code",
      "metadata": {
        "id": "psET9l0UTp47",
        "colab_type": "code",
        "outputId": "90f0888a-0b00-4fd9-8044-d26a9b945bda",
        "colab": {
          "base_uri": "https://localhost:8080/",
          "height": 34
        }
      },
      "source": [
        "type(results[0])"
      ],
      "execution_count": 0,
      "outputs": [
        {
          "output_type": "execute_result",
          "data": {
            "text/plain": [
              "int"
            ]
          },
          "metadata": {
            "tags": []
          },
          "execution_count": 26
        }
      ]
    },
    {
      "cell_type": "code",
      "metadata": {
        "id": "lnHRk8XHC0N0",
        "colab_type": "code",
        "colab": {}
      },
      "source": [
        "test_y_pred_df = pd.DataFrame(results, columns=('Label',))\n",
        "test_y_pred_df.index.name = 'Id'\n",
        "file=test_y_pred_df.to_csv()"
      ],
      "execution_count": 0,
      "outputs": []
    },
    {
      "cell_type": "code",
      "metadata": {
        "id": "hGN3eZ-OUTOz",
        "colab_type": "code",
        "colab": {}
      },
      "source": [
        "from google.colab import files\n",
        "\n",
        "with open('vgg_3b.csv','w') as f:\n",
        "    f.write(file)\n",
        "    \n",
        "files.download('vgg_3b.csv')"
      ],
      "execution_count": 0,
      "outputs": []
    }
  ]
}